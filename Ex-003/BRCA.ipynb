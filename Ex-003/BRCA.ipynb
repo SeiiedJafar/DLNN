{
 "cells": [
  {
   "cell_type": "code",
   "execution_count": 232,
   "id": "initial_id",
   "metadata": {
    "collapsed": true,
    "ExecuteTime": {
     "end_time": "2023-11-17T11:27:37.723542400Z",
     "start_time": "2023-11-17T11:27:37.687013200Z"
    }
   },
   "outputs": [],
   "source": [
    "import pandas as pd\n",
    "import numpy as np\n",
    "import matplotlib.pyplot as plt\n",
    "from sklearn.linear_model import LinearRegression\n",
    "from sklearn.model_selection import train_test_split\n",
    "from sklearn.preprocessing import StandardScaler\n",
    "from sklearn.linear_model import LogisticRegression\n",
    "from sklearn.metrics import accuracy_score, classification_report, confusion_matrix\n",
    "from datetime import datetime\n",
    "from sklearn.preprocessing import MinMaxScaler\n",
    "from sklearn.metrics import mean_squared_error\n",
    "\n"
   ]
  },
  {
   "cell_type": "markdown",
   "source": [
    "# Read CSV_File"
   ],
   "metadata": {
    "collapsed": false
   },
   "id": "7f6aae7686a87140"
  },
  {
   "cell_type": "code",
   "execution_count": 233,
   "outputs": [
    {
     "data": {
      "text/plain": "317"
     },
     "execution_count": 233,
     "metadata": {},
     "output_type": "execute_result"
    }
   ],
   "source": [
    "df = pd.read_csv('BRCA.csv')\n",
    "df.dropna(inplace=True)\n",
    "len(df)"
   ],
   "metadata": {
    "collapsed": false,
    "ExecuteTime": {
     "end_time": "2023-11-17T11:27:37.797644500Z",
     "start_time": "2023-11-17T11:27:37.700042Z"
    }
   },
   "id": "ba46cbddf149fb5b"
  },
  {
   "cell_type": "markdown",
   "source": [
    "#### Adding Surgery_And_Last_Visit_Interval Column To DataFrame"
   ],
   "metadata": {
    "collapsed": false
   },
   "id": "e5b43f56526714e7"
  },
  {
   "cell_type": "code",
   "execution_count": 234,
   "outputs": [],
   "source": [
    "date1 = pd.to_datetime(df['Date_of_Surgery'], format='%d-%b-%y')\n",
    "date2 = pd.to_datetime(df['Date_of_Last_Visit'], format='%d-%b-%y')\n",
    "df['Surgery_And_Last_Visit_Interval'] = (date2 - date1).dt.days\n",
    "df['Surgery_And_Last_Visit_Interval'] = df['Surgery_And_Last_Visit_Interval'].astype(int)"
   ],
   "metadata": {
    "collapsed": false,
    "ExecuteTime": {
     "end_time": "2023-11-17T11:27:37.857943700Z",
     "start_time": "2023-11-17T11:27:37.754107Z"
    }
   },
   "id": "dd3d730ee727ef95"
  },
  {
   "cell_type": "markdown",
   "source": [
    "#### Preprocessing DataFrame"
   ],
   "metadata": {
    "collapsed": false
   },
   "id": "242c4031f6e6da03"
  },
  {
   "cell_type": "code",
   "execution_count": 235,
   "outputs": [
    {
     "data": {
      "text/plain": "     Patient_ID  Age  Gender  Protein1  Protein2  Protein3  Protein4  \\\n0  TCGA-D8-A1XD   36       0  0.080353   0.42638   0.54715  0.273680   \n1  TCGA-EW-A1OX   43       0 -0.420320   0.57807   0.61447 -0.031505   \n2  TCGA-A8-A079   69       0  0.213980   1.31140  -0.32747 -0.234260   \n3  TCGA-D8-A1XR   56       0  0.345090  -0.21147  -0.19304  0.124270   \n4  TCGA-BH-A0BF   56       0  0.221550   1.90680   0.52045 -0.311990   \n\n   Tumour_Stage  Histology  ER status  PR status  HER2 status  Surgery_type  \\\n0             3          1          1          1            0             2   \n1             2          3          1          1            0             1   \n2             3          1          1          1            0             4   \n3             2          1          1          1            0             2   \n4             2          1          1          1            0             4   \n\n  Date_of_Surgery Date_of_Last_Visit  Patient_Status  \\\n0       15-Jan-17          19-Jun-17               1   \n1       26-Apr-17           9-Nov-18               0   \n2        8-Sep-17           9-Jun-18               1   \n3       25-Jan-17          12-Jul-17               1   \n4        6-May-17          27-Jun-19               0   \n\n   Surgery_And_Last_Visit_Interval  \n0                              155  \n1                              562  \n2                              274  \n3                              168  \n4                              782  ",
      "text/html": "<div>\n<style scoped>\n    .dataframe tbody tr th:only-of-type {\n        vertical-align: middle;\n    }\n\n    .dataframe tbody tr th {\n        vertical-align: top;\n    }\n\n    .dataframe thead th {\n        text-align: right;\n    }\n</style>\n<table border=\"1\" class=\"dataframe\">\n  <thead>\n    <tr style=\"text-align: right;\">\n      <th></th>\n      <th>Patient_ID</th>\n      <th>Age</th>\n      <th>Gender</th>\n      <th>Protein1</th>\n      <th>Protein2</th>\n      <th>Protein3</th>\n      <th>Protein4</th>\n      <th>Tumour_Stage</th>\n      <th>Histology</th>\n      <th>ER status</th>\n      <th>PR status</th>\n      <th>HER2 status</th>\n      <th>Surgery_type</th>\n      <th>Date_of_Surgery</th>\n      <th>Date_of_Last_Visit</th>\n      <th>Patient_Status</th>\n      <th>Surgery_And_Last_Visit_Interval</th>\n    </tr>\n  </thead>\n  <tbody>\n    <tr>\n      <th>0</th>\n      <td>TCGA-D8-A1XD</td>\n      <td>36</td>\n      <td>0</td>\n      <td>0.080353</td>\n      <td>0.42638</td>\n      <td>0.54715</td>\n      <td>0.273680</td>\n      <td>3</td>\n      <td>1</td>\n      <td>1</td>\n      <td>1</td>\n      <td>0</td>\n      <td>2</td>\n      <td>15-Jan-17</td>\n      <td>19-Jun-17</td>\n      <td>1</td>\n      <td>155</td>\n    </tr>\n    <tr>\n      <th>1</th>\n      <td>TCGA-EW-A1OX</td>\n      <td>43</td>\n      <td>0</td>\n      <td>-0.420320</td>\n      <td>0.57807</td>\n      <td>0.61447</td>\n      <td>-0.031505</td>\n      <td>2</td>\n      <td>3</td>\n      <td>1</td>\n      <td>1</td>\n      <td>0</td>\n      <td>1</td>\n      <td>26-Apr-17</td>\n      <td>9-Nov-18</td>\n      <td>0</td>\n      <td>562</td>\n    </tr>\n    <tr>\n      <th>2</th>\n      <td>TCGA-A8-A079</td>\n      <td>69</td>\n      <td>0</td>\n      <td>0.213980</td>\n      <td>1.31140</td>\n      <td>-0.32747</td>\n      <td>-0.234260</td>\n      <td>3</td>\n      <td>1</td>\n      <td>1</td>\n      <td>1</td>\n      <td>0</td>\n      <td>4</td>\n      <td>8-Sep-17</td>\n      <td>9-Jun-18</td>\n      <td>1</td>\n      <td>274</td>\n    </tr>\n    <tr>\n      <th>3</th>\n      <td>TCGA-D8-A1XR</td>\n      <td>56</td>\n      <td>0</td>\n      <td>0.345090</td>\n      <td>-0.21147</td>\n      <td>-0.19304</td>\n      <td>0.124270</td>\n      <td>2</td>\n      <td>1</td>\n      <td>1</td>\n      <td>1</td>\n      <td>0</td>\n      <td>2</td>\n      <td>25-Jan-17</td>\n      <td>12-Jul-17</td>\n      <td>1</td>\n      <td>168</td>\n    </tr>\n    <tr>\n      <th>4</th>\n      <td>TCGA-BH-A0BF</td>\n      <td>56</td>\n      <td>0</td>\n      <td>0.221550</td>\n      <td>1.90680</td>\n      <td>0.52045</td>\n      <td>-0.311990</td>\n      <td>2</td>\n      <td>1</td>\n      <td>1</td>\n      <td>1</td>\n      <td>0</td>\n      <td>4</td>\n      <td>6-May-17</td>\n      <td>27-Jun-19</td>\n      <td>0</td>\n      <td>782</td>\n    </tr>\n  </tbody>\n</table>\n</div>"
     },
     "execution_count": 235,
     "metadata": {},
     "output_type": "execute_result"
    }
   ],
   "source": [
    "df=df.replace({\"Gender\": {\"MALE\": 1, \"FEMALE\": 0},\"ER status\": {\"Positive\": 1, \"Negative\": 0}, \"PR status\": {\"Positive\": 1, \"Negative\": 0}, \"HER2 status\": {\"Positive\": 1, \"Negative\": 0}, \"Tumour_Stage\": {\"I\":1,\"II\":2,\"III\":3}, \"Patient_Status\": {\"Alive\": 1, \"Dead\": 0}, \"Histology\": {\"Infiltrating Ductal Carcinoma\":1,\"Infiltrating Lobular Carcinoma\":2,\"Mucinous Carcinoma\":3}, \"Surgery_type\": {\"Lumpectomy\":1,\"Modified Radical Mastectomy\":2,\"Simple Mastectomy\":3,\"Other\":4}})\n",
    "df.head()"
   ],
   "metadata": {
    "collapsed": false,
    "ExecuteTime": {
     "end_time": "2023-11-17T11:27:37.917692700Z",
     "start_time": "2023-11-17T11:27:37.858940500Z"
    }
   },
   "id": "d4d902679f405898"
  },
  {
   "cell_type": "markdown",
   "source": [
    "## Data Min-Max Scaling (Normalizing to a specific range)"
   ],
   "metadata": {
    "collapsed": false
   },
   "id": "8a68326a91c1daf9"
  },
  {
   "cell_type": "code",
   "execution_count": 240,
   "outputs": [],
   "source": [
    "features = ['Age', 'Protein1', 'Protein2', 'Protein3']\n",
    "target = 'Protein4'\n",
    "LR_df=df.loc[:, ['Age', 'Protein1', 'Protein2', 'Protein3', 'Protein4']]\n",
    "LR_X_Axis = LR_df[features]\n",
    "LR_y_Axis = LR_df[target]"
   ],
   "metadata": {
    "collapsed": false,
    "ExecuteTime": {
     "end_time": "2023-11-17T11:28:19.156082500Z",
     "start_time": "2023-11-17T11:28:19.127351600Z"
    }
   },
   "id": "1ebc9b6f8ccd735"
  },
  {
   "cell_type": "code",
   "execution_count": 241,
   "outputs": [],
   "source": [
    "# scaler = MinMaxScaler()\n",
    "# X_scaled = scaler.fit_transform(LR_X_Axis)"
   ],
   "metadata": {
    "collapsed": false,
    "ExecuteTime": {
     "end_time": "2023-11-17T11:28:19.598047200Z",
     "start_time": "2023-11-17T11:28:19.585123600Z"
    }
   },
   "id": "a71e763845f3bd73"
  },
  {
   "cell_type": "code",
   "execution_count": 244,
   "outputs": [
    {
     "name": "stdout",
     "output_type": "stream",
     "text": [
      "0     0.273680\n",
      "1    -0.031505\n",
      "2    -0.234260\n",
      "3     0.124270\n",
      "4    -0.311990\n",
      "5     0.043025\n",
      "6     0.391580\n",
      "8     0.217180\n",
      "9     0.193950\n",
      "10   -0.835300\n",
      "Name: Protein4, dtype: float64 [-0.02134835 -0.11231324  0.1225036   0.01774518  0.21802108  0.1844663\n",
      " -0.05061599  0.17198364 -0.27052447 -0.04883369]\n"
     ]
    }
   ],
   "source": [
    "model = LinearRegression()\n",
    "model.fit(LR_X_Axis, LR_y_Axis)\n",
    "y_pred = model.predict(LR_X_Axis)\n",
    "mse = mean_squared_error(LR_y_Axis, y_pred)\n",
    "print(LR_y_Axis[:10],y_pred[:10])"
   ],
   "metadata": {
    "collapsed": false,
    "ExecuteTime": {
     "end_time": "2023-11-17T11:29:28.403029200Z",
     "start_time": "2023-11-17T11:29:28.389829900Z"
    }
   },
   "id": "1cc1c75d8dc4736b"
  },
  {
   "cell_type": "code",
   "execution_count": 238,
   "outputs": [],
   "source": [],
   "metadata": {
    "collapsed": false,
    "ExecuteTime": {
     "end_time": "2023-11-17T11:27:38.121415800Z",
     "start_time": "2023-11-17T11:27:38.029272400Z"
    }
   },
   "id": "825747ef84f1aac8"
  }
 ],
 "metadata": {
  "kernelspec": {
   "display_name": "Python 3",
   "language": "python",
   "name": "python3"
  },
  "language_info": {
   "codemirror_mode": {
    "name": "ipython",
    "version": 2
   },
   "file_extension": ".py",
   "mimetype": "text/x-python",
   "name": "python",
   "nbconvert_exporter": "python",
   "pygments_lexer": "ipython2",
   "version": "2.7.6"
  }
 },
 "nbformat": 4,
 "nbformat_minor": 5
}
