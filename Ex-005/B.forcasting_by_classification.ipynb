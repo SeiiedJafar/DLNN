{
 "cells": [
  {
   "cell_type": "code",
   "execution_count": 247,
   "id": "initial_id",
   "metadata": {
    "collapsed": true,
    "ExecuteTime": {
     "end_time": "2024-01-25T16:00:59.021776300Z",
     "start_time": "2024-01-25T16:00:58.943213600Z"
    }
   },
   "outputs": [],
   "source": [
    "import numpy as np\n",
    "import pandas as pd\n",
    "import matplotlib.pyplot as plt\n",
    "from sklearn.model_selection import train_test_split\n",
    "from sklearn import tree\n",
    "from sklearn.ensemble import RandomForestRegressor\n",
    "from sklearn.linear_model import LinearRegression\n",
    "from sklearn.metrics import confusion_matrix, roc_curve, auc"
   ]
  },
  {
   "cell_type": "markdown",
   "source": [
    "# Read CSV File"
   ],
   "metadata": {
    "collapsed": false
   },
   "id": "9d1fc8f9c602dca6"
  },
  {
   "cell_type": "code",
   "execution_count": 248,
   "outputs": [],
   "source": [
    "df = pd.read_csv('cleaned_data.csv')\n",
    "result_df = pd.DataFrame()"
   ],
   "metadata": {
    "collapsed": false,
    "ExecuteTime": {
     "end_time": "2024-01-25T16:00:59.304736700Z",
     "start_time": "2024-01-25T16:00:58.973644100Z"
    }
   },
   "id": "b2b010a23a127b4f"
  },
  {
   "cell_type": "markdown",
   "source": [
    "# DataFrame to np.array"
   ],
   "metadata": {
    "collapsed": false
   },
   "id": "cc88803db25e4217"
  },
  {
   "cell_type": "code",
   "execution_count": 249,
   "outputs": [],
   "source": [
    "targetValue = 'Overall Survival Status'"
   ],
   "metadata": {
    "collapsed": false,
    "ExecuteTime": {
     "end_time": "2024-01-25T16:00:59.318775800Z",
     "start_time": "2024-01-25T16:00:58.993522800Z"
    }
   },
   "id": "9be1c9eb00de86f8"
  },
  {
   "cell_type": "code",
   "execution_count": 250,
   "outputs": [],
   "source": [
    "features = df.drop([targetValue, 'Patient ID'], axis=1).values\n",
    "target = df[targetValue].values"
   ],
   "metadata": {
    "collapsed": false,
    "ExecuteTime": {
     "end_time": "2024-01-25T16:00:59.334397400Z",
     "start_time": "2024-01-25T16:00:59.006045200Z"
    }
   },
   "id": "be796945b15b500"
  },
  {
   "cell_type": "markdown",
   "source": [
    "# Train,Test,Split"
   ],
   "metadata": {
    "collapsed": false
   },
   "id": "35758945963288a"
  },
  {
   "cell_type": "code",
   "execution_count": 251,
   "outputs": [],
   "source": [
    "x_train, x_test, y_train, y_test = train_test_split(features, target, test_size=0.2, random_state=42)"
   ],
   "metadata": {
    "collapsed": false,
    "ExecuteTime": {
     "end_time": "2024-01-25T16:00:59.334397400Z",
     "start_time": "2024-01-25T16:00:59.021776300Z"
    }
   },
   "id": "b43ebe86ec6ea9c7"
  },
  {
   "cell_type": "markdown",
   "source": [
    "# Linear Regression"
   ],
   "metadata": {
    "collapsed": false
   },
   "id": "63fd74a5e48ad229"
  },
  {
   "cell_type": "code",
   "execution_count": 252,
   "outputs": [
    {
     "data": {
      "text/plain": "LinearRegression()",
      "text/html": "<style>#sk-container-id-28 {color: black;}#sk-container-id-28 pre{padding: 0;}#sk-container-id-28 div.sk-toggleable {background-color: white;}#sk-container-id-28 label.sk-toggleable__label {cursor: pointer;display: block;width: 100%;margin-bottom: 0;padding: 0.3em;box-sizing: border-box;text-align: center;}#sk-container-id-28 label.sk-toggleable__label-arrow:before {content: \"▸\";float: left;margin-right: 0.25em;color: #696969;}#sk-container-id-28 label.sk-toggleable__label-arrow:hover:before {color: black;}#sk-container-id-28 div.sk-estimator:hover label.sk-toggleable__label-arrow:before {color: black;}#sk-container-id-28 div.sk-toggleable__content {max-height: 0;max-width: 0;overflow: hidden;text-align: left;background-color: #f0f8ff;}#sk-container-id-28 div.sk-toggleable__content pre {margin: 0.2em;color: black;border-radius: 0.25em;background-color: #f0f8ff;}#sk-container-id-28 input.sk-toggleable__control:checked~div.sk-toggleable__content {max-height: 200px;max-width: 100%;overflow: auto;}#sk-container-id-28 input.sk-toggleable__control:checked~label.sk-toggleable__label-arrow:before {content: \"▾\";}#sk-container-id-28 div.sk-estimator input.sk-toggleable__control:checked~label.sk-toggleable__label {background-color: #d4ebff;}#sk-container-id-28 div.sk-label input.sk-toggleable__control:checked~label.sk-toggleable__label {background-color: #d4ebff;}#sk-container-id-28 input.sk-hidden--visually {border: 0;clip: rect(1px 1px 1px 1px);clip: rect(1px, 1px, 1px, 1px);height: 1px;margin: -1px;overflow: hidden;padding: 0;position: absolute;width: 1px;}#sk-container-id-28 div.sk-estimator {font-family: monospace;background-color: #f0f8ff;border: 1px dotted black;border-radius: 0.25em;box-sizing: border-box;margin-bottom: 0.5em;}#sk-container-id-28 div.sk-estimator:hover {background-color: #d4ebff;}#sk-container-id-28 div.sk-parallel-item::after {content: \"\";width: 100%;border-bottom: 1px solid gray;flex-grow: 1;}#sk-container-id-28 div.sk-label:hover label.sk-toggleable__label {background-color: #d4ebff;}#sk-container-id-28 div.sk-serial::before {content: \"\";position: absolute;border-left: 1px solid gray;box-sizing: border-box;top: 0;bottom: 0;left: 50%;z-index: 0;}#sk-container-id-28 div.sk-serial {display: flex;flex-direction: column;align-items: center;background-color: white;padding-right: 0.2em;padding-left: 0.2em;position: relative;}#sk-container-id-28 div.sk-item {position: relative;z-index: 1;}#sk-container-id-28 div.sk-parallel {display: flex;align-items: stretch;justify-content: center;background-color: white;position: relative;}#sk-container-id-28 div.sk-item::before, #sk-container-id-28 div.sk-parallel-item::before {content: \"\";position: absolute;border-left: 1px solid gray;box-sizing: border-box;top: 0;bottom: 0;left: 50%;z-index: -1;}#sk-container-id-28 div.sk-parallel-item {display: flex;flex-direction: column;z-index: 1;position: relative;background-color: white;}#sk-container-id-28 div.sk-parallel-item:first-child::after {align-self: flex-end;width: 50%;}#sk-container-id-28 div.sk-parallel-item:last-child::after {align-self: flex-start;width: 50%;}#sk-container-id-28 div.sk-parallel-item:only-child::after {width: 0;}#sk-container-id-28 div.sk-dashed-wrapped {border: 1px dashed gray;margin: 0 0.4em 0.5em 0.4em;box-sizing: border-box;padding-bottom: 0.4em;background-color: white;}#sk-container-id-28 div.sk-label label {font-family: monospace;font-weight: bold;display: inline-block;line-height: 1.2em;}#sk-container-id-28 div.sk-label-container {text-align: center;}#sk-container-id-28 div.sk-container {/* jupyter's `normalize.less` sets `[hidden] { display: none; }` but bootstrap.min.css set `[hidden] { display: none !important; }` so we also need the `!important` here to be able to override the default hidden behavior on the sphinx rendered scikit-learn.org. See: https://github.com/scikit-learn/scikit-learn/issues/21755 */display: inline-block !important;position: relative;}#sk-container-id-28 div.sk-text-repr-fallback {display: none;}</style><div id=\"sk-container-id-28\" class=\"sk-top-container\"><div class=\"sk-text-repr-fallback\"><pre>LinearRegression()</pre><b>In a Jupyter environment, please rerun this cell to show the HTML representation or trust the notebook. <br />On GitHub, the HTML representation is unable to render, please try loading this page with nbviewer.org.</b></div><div class=\"sk-container\" hidden><div class=\"sk-item\"><div class=\"sk-estimator sk-toggleable\"><input class=\"sk-toggleable__control sk-hidden--visually\" id=\"sk-estimator-id-28\" type=\"checkbox\" checked><label for=\"sk-estimator-id-28\" class=\"sk-toggleable__label sk-toggleable__label-arrow\">LinearRegression</label><div class=\"sk-toggleable__content\"><pre>LinearRegression()</pre></div></div></div></div></div>"
     },
     "execution_count": 252,
     "metadata": {},
     "output_type": "execute_result"
    }
   ],
   "source": [
    "LR_model = LinearRegression()\n",
    "LR_model.fit(x_train, y_train)"
   ],
   "metadata": {
    "collapsed": false,
    "ExecuteTime": {
     "end_time": "2024-01-25T16:00:59.334397400Z",
     "start_time": "2024-01-25T16:00:59.055039700Z"
    }
   },
   "id": "cd88533c50fc5f5e"
  },
  {
   "cell_type": "code",
   "execution_count": 253,
   "outputs": [],
   "source": [
    "y_pred = LR_model.predict(x_test).astype('int64')\n",
    "result_df = result_df.assign(test=y_test, LR_pred=y_pred)"
   ],
   "metadata": {
    "collapsed": false,
    "ExecuteTime": {
     "end_time": "2024-01-25T16:00:59.334397400Z",
     "start_time": "2024-01-25T16:00:59.093228600Z"
    }
   },
   "id": "826fb1da2fa76390"
  },
  {
   "cell_type": "code",
   "execution_count": 254,
   "outputs": [
    {
     "name": "stdout",
     "output_type": "stream",
     "text": [
      "تعداد ردیف‌ها: 502\n",
      "تعداد ردیف‌هایی که مقادیر برابر دارند: 313\n"
     ]
    }
   ],
   "source": [
    "matching_rows = (result_df['test'] == result_df['LR_pred']).sum()\n",
    "print(f\"تعداد ردیف‌ها: {result_df.shape[0]}\")\n",
    "print(f\"تعداد ردیف‌هایی که مقادیر برابر دارند: {matching_rows}\")\n"
   ],
   "metadata": {
    "collapsed": false,
    "ExecuteTime": {
     "end_time": "2024-01-25T16:00:59.334397400Z",
     "start_time": "2024-01-25T16:00:59.118462200Z"
    }
   },
   "id": "2cae33888adf32f7"
  },
  {
   "cell_type": "markdown",
   "source": [
    "# Decision Tree"
   ],
   "metadata": {
    "collapsed": false
   },
   "id": "8f25f0a6fdb77cdc"
  },
  {
   "cell_type": "code",
   "execution_count": 255,
   "outputs": [
    {
     "data": {
      "text/plain": "DecisionTreeRegressor(min_samples_leaf=3, random_state=42)",
      "text/html": "<style>#sk-container-id-29 {color: black;}#sk-container-id-29 pre{padding: 0;}#sk-container-id-29 div.sk-toggleable {background-color: white;}#sk-container-id-29 label.sk-toggleable__label {cursor: pointer;display: block;width: 100%;margin-bottom: 0;padding: 0.3em;box-sizing: border-box;text-align: center;}#sk-container-id-29 label.sk-toggleable__label-arrow:before {content: \"▸\";float: left;margin-right: 0.25em;color: #696969;}#sk-container-id-29 label.sk-toggleable__label-arrow:hover:before {color: black;}#sk-container-id-29 div.sk-estimator:hover label.sk-toggleable__label-arrow:before {color: black;}#sk-container-id-29 div.sk-toggleable__content {max-height: 0;max-width: 0;overflow: hidden;text-align: left;background-color: #f0f8ff;}#sk-container-id-29 div.sk-toggleable__content pre {margin: 0.2em;color: black;border-radius: 0.25em;background-color: #f0f8ff;}#sk-container-id-29 input.sk-toggleable__control:checked~div.sk-toggleable__content {max-height: 200px;max-width: 100%;overflow: auto;}#sk-container-id-29 input.sk-toggleable__control:checked~label.sk-toggleable__label-arrow:before {content: \"▾\";}#sk-container-id-29 div.sk-estimator input.sk-toggleable__control:checked~label.sk-toggleable__label {background-color: #d4ebff;}#sk-container-id-29 div.sk-label input.sk-toggleable__control:checked~label.sk-toggleable__label {background-color: #d4ebff;}#sk-container-id-29 input.sk-hidden--visually {border: 0;clip: rect(1px 1px 1px 1px);clip: rect(1px, 1px, 1px, 1px);height: 1px;margin: -1px;overflow: hidden;padding: 0;position: absolute;width: 1px;}#sk-container-id-29 div.sk-estimator {font-family: monospace;background-color: #f0f8ff;border: 1px dotted black;border-radius: 0.25em;box-sizing: border-box;margin-bottom: 0.5em;}#sk-container-id-29 div.sk-estimator:hover {background-color: #d4ebff;}#sk-container-id-29 div.sk-parallel-item::after {content: \"\";width: 100%;border-bottom: 1px solid gray;flex-grow: 1;}#sk-container-id-29 div.sk-label:hover label.sk-toggleable__label {background-color: #d4ebff;}#sk-container-id-29 div.sk-serial::before {content: \"\";position: absolute;border-left: 1px solid gray;box-sizing: border-box;top: 0;bottom: 0;left: 50%;z-index: 0;}#sk-container-id-29 div.sk-serial {display: flex;flex-direction: column;align-items: center;background-color: white;padding-right: 0.2em;padding-left: 0.2em;position: relative;}#sk-container-id-29 div.sk-item {position: relative;z-index: 1;}#sk-container-id-29 div.sk-parallel {display: flex;align-items: stretch;justify-content: center;background-color: white;position: relative;}#sk-container-id-29 div.sk-item::before, #sk-container-id-29 div.sk-parallel-item::before {content: \"\";position: absolute;border-left: 1px solid gray;box-sizing: border-box;top: 0;bottom: 0;left: 50%;z-index: -1;}#sk-container-id-29 div.sk-parallel-item {display: flex;flex-direction: column;z-index: 1;position: relative;background-color: white;}#sk-container-id-29 div.sk-parallel-item:first-child::after {align-self: flex-end;width: 50%;}#sk-container-id-29 div.sk-parallel-item:last-child::after {align-self: flex-start;width: 50%;}#sk-container-id-29 div.sk-parallel-item:only-child::after {width: 0;}#sk-container-id-29 div.sk-dashed-wrapped {border: 1px dashed gray;margin: 0 0.4em 0.5em 0.4em;box-sizing: border-box;padding-bottom: 0.4em;background-color: white;}#sk-container-id-29 div.sk-label label {font-family: monospace;font-weight: bold;display: inline-block;line-height: 1.2em;}#sk-container-id-29 div.sk-label-container {text-align: center;}#sk-container-id-29 div.sk-container {/* jupyter's `normalize.less` sets `[hidden] { display: none; }` but bootstrap.min.css set `[hidden] { display: none !important; }` so we also need the `!important` here to be able to override the default hidden behavior on the sphinx rendered scikit-learn.org. See: https://github.com/scikit-learn/scikit-learn/issues/21755 */display: inline-block !important;position: relative;}#sk-container-id-29 div.sk-text-repr-fallback {display: none;}</style><div id=\"sk-container-id-29\" class=\"sk-top-container\"><div class=\"sk-text-repr-fallback\"><pre>DecisionTreeRegressor(min_samples_leaf=3, random_state=42)</pre><b>In a Jupyter environment, please rerun this cell to show the HTML representation or trust the notebook. <br />On GitHub, the HTML representation is unable to render, please try loading this page with nbviewer.org.</b></div><div class=\"sk-container\" hidden><div class=\"sk-item\"><div class=\"sk-estimator sk-toggleable\"><input class=\"sk-toggleable__control sk-hidden--visually\" id=\"sk-estimator-id-29\" type=\"checkbox\" checked><label for=\"sk-estimator-id-29\" class=\"sk-toggleable__label sk-toggleable__label-arrow\">DecisionTreeRegressor</label><div class=\"sk-toggleable__content\"><pre>DecisionTreeRegressor(min_samples_leaf=3, random_state=42)</pre></div></div></div></div></div>"
     },
     "execution_count": 255,
     "metadata": {},
     "output_type": "execute_result"
    }
   ],
   "source": [
    "DT_model = tree.DecisionTreeRegressor(min_samples_leaf=3, random_state=42)\n",
    "DT_model.fit(x_train, y_train)"
   ],
   "metadata": {
    "collapsed": false,
    "ExecuteTime": {
     "end_time": "2024-01-25T16:00:59.334397400Z",
     "start_time": "2024-01-25T16:00:59.147331300Z"
    }
   },
   "id": "eaf33838c9f9d5be"
  },
  {
   "cell_type": "code",
   "execution_count": 256,
   "outputs": [],
   "source": [
    "y_pred = DT_model.predict(x_test).astype('int64')\n",
    "result_df = result_df.assign(DT_pred=y_pred)"
   ],
   "metadata": {
    "collapsed": false,
    "ExecuteTime": {
     "end_time": "2024-01-25T16:00:59.334397400Z",
     "start_time": "2024-01-25T16:00:59.276185100Z"
    }
   },
   "id": "3f771bf018184d9b"
  },
  {
   "cell_type": "code",
   "execution_count": 257,
   "outputs": [
    {
     "name": "stdout",
     "output_type": "stream",
     "text": [
      "تعداد ردیف‌هایی که مقادیر برابر دارند: 502\n"
     ]
    }
   ],
   "source": [
    "matching_rows = (result_df['test'] == result_df['DT_pred']).sum()\n",
    "print(f\"تعداد ردیف‌هایی که مقادیر برابر دارند: {matching_rows}\")"
   ],
   "metadata": {
    "collapsed": false,
    "ExecuteTime": {
     "end_time": "2024-01-25T16:00:59.431530200Z",
     "start_time": "2024-01-25T16:00:59.313713200Z"
    }
   },
   "id": "769824843c95f28c"
  },
  {
   "cell_type": "markdown",
   "source": [
    "# Random Forest"
   ],
   "metadata": {
    "collapsed": false
   },
   "id": "474688eedcb14f6a"
  },
  {
   "cell_type": "code",
   "execution_count": 258,
   "outputs": [
    {
     "data": {
      "text/plain": "RandomForestRegressor(max_depth=3, random_state=42)",
      "text/html": "<style>#sk-container-id-30 {color: black;}#sk-container-id-30 pre{padding: 0;}#sk-container-id-30 div.sk-toggleable {background-color: white;}#sk-container-id-30 label.sk-toggleable__label {cursor: pointer;display: block;width: 100%;margin-bottom: 0;padding: 0.3em;box-sizing: border-box;text-align: center;}#sk-container-id-30 label.sk-toggleable__label-arrow:before {content: \"▸\";float: left;margin-right: 0.25em;color: #696969;}#sk-container-id-30 label.sk-toggleable__label-arrow:hover:before {color: black;}#sk-container-id-30 div.sk-estimator:hover label.sk-toggleable__label-arrow:before {color: black;}#sk-container-id-30 div.sk-toggleable__content {max-height: 0;max-width: 0;overflow: hidden;text-align: left;background-color: #f0f8ff;}#sk-container-id-30 div.sk-toggleable__content pre {margin: 0.2em;color: black;border-radius: 0.25em;background-color: #f0f8ff;}#sk-container-id-30 input.sk-toggleable__control:checked~div.sk-toggleable__content {max-height: 200px;max-width: 100%;overflow: auto;}#sk-container-id-30 input.sk-toggleable__control:checked~label.sk-toggleable__label-arrow:before {content: \"▾\";}#sk-container-id-30 div.sk-estimator input.sk-toggleable__control:checked~label.sk-toggleable__label {background-color: #d4ebff;}#sk-container-id-30 div.sk-label input.sk-toggleable__control:checked~label.sk-toggleable__label {background-color: #d4ebff;}#sk-container-id-30 input.sk-hidden--visually {border: 0;clip: rect(1px 1px 1px 1px);clip: rect(1px, 1px, 1px, 1px);height: 1px;margin: -1px;overflow: hidden;padding: 0;position: absolute;width: 1px;}#sk-container-id-30 div.sk-estimator {font-family: monospace;background-color: #f0f8ff;border: 1px dotted black;border-radius: 0.25em;box-sizing: border-box;margin-bottom: 0.5em;}#sk-container-id-30 div.sk-estimator:hover {background-color: #d4ebff;}#sk-container-id-30 div.sk-parallel-item::after {content: \"\";width: 100%;border-bottom: 1px solid gray;flex-grow: 1;}#sk-container-id-30 div.sk-label:hover label.sk-toggleable__label {background-color: #d4ebff;}#sk-container-id-30 div.sk-serial::before {content: \"\";position: absolute;border-left: 1px solid gray;box-sizing: border-box;top: 0;bottom: 0;left: 50%;z-index: 0;}#sk-container-id-30 div.sk-serial {display: flex;flex-direction: column;align-items: center;background-color: white;padding-right: 0.2em;padding-left: 0.2em;position: relative;}#sk-container-id-30 div.sk-item {position: relative;z-index: 1;}#sk-container-id-30 div.sk-parallel {display: flex;align-items: stretch;justify-content: center;background-color: white;position: relative;}#sk-container-id-30 div.sk-item::before, #sk-container-id-30 div.sk-parallel-item::before {content: \"\";position: absolute;border-left: 1px solid gray;box-sizing: border-box;top: 0;bottom: 0;left: 50%;z-index: -1;}#sk-container-id-30 div.sk-parallel-item {display: flex;flex-direction: column;z-index: 1;position: relative;background-color: white;}#sk-container-id-30 div.sk-parallel-item:first-child::after {align-self: flex-end;width: 50%;}#sk-container-id-30 div.sk-parallel-item:last-child::after {align-self: flex-start;width: 50%;}#sk-container-id-30 div.sk-parallel-item:only-child::after {width: 0;}#sk-container-id-30 div.sk-dashed-wrapped {border: 1px dashed gray;margin: 0 0.4em 0.5em 0.4em;box-sizing: border-box;padding-bottom: 0.4em;background-color: white;}#sk-container-id-30 div.sk-label label {font-family: monospace;font-weight: bold;display: inline-block;line-height: 1.2em;}#sk-container-id-30 div.sk-label-container {text-align: center;}#sk-container-id-30 div.sk-container {/* jupyter's `normalize.less` sets `[hidden] { display: none; }` but bootstrap.min.css set `[hidden] { display: none !important; }` so we also need the `!important` here to be able to override the default hidden behavior on the sphinx rendered scikit-learn.org. See: https://github.com/scikit-learn/scikit-learn/issues/21755 */display: inline-block !important;position: relative;}#sk-container-id-30 div.sk-text-repr-fallback {display: none;}</style><div id=\"sk-container-id-30\" class=\"sk-top-container\"><div class=\"sk-text-repr-fallback\"><pre>RandomForestRegressor(max_depth=3, random_state=42)</pre><b>In a Jupyter environment, please rerun this cell to show the HTML representation or trust the notebook. <br />On GitHub, the HTML representation is unable to render, please try loading this page with nbviewer.org.</b></div><div class=\"sk-container\" hidden><div class=\"sk-item\"><div class=\"sk-estimator sk-toggleable\"><input class=\"sk-toggleable__control sk-hidden--visually\" id=\"sk-estimator-id-30\" type=\"checkbox\" checked><label for=\"sk-estimator-id-30\" class=\"sk-toggleable__label sk-toggleable__label-arrow\">RandomForestRegressor</label><div class=\"sk-toggleable__content\"><pre>RandomForestRegressor(max_depth=3, random_state=42)</pre></div></div></div></div></div>"
     },
     "execution_count": 258,
     "metadata": {},
     "output_type": "execute_result"
    }
   ],
   "source": [
    "RF_model = RandomForestRegressor(max_depth=3, random_state=42)\n",
    "RF_model.fit(x_train, y_train)"
   ],
   "metadata": {
    "collapsed": false,
    "ExecuteTime": {
     "end_time": "2024-01-25T16:01:00.678080800Z",
     "start_time": "2024-01-25T16:00:59.358887100Z"
    }
   },
   "id": "da3a56ea19defa76"
  },
  {
   "cell_type": "code",
   "execution_count": 259,
   "outputs": [],
   "source": [
    "y_pred = RF_model.predict(x_test).astype('int64')\n",
    "result_df = result_df.assign(RF_pred=y_pred)"
   ],
   "metadata": {
    "collapsed": false,
    "ExecuteTime": {
     "end_time": "2024-01-25T16:01:00.678080800Z",
     "start_time": "2024-01-25T16:01:00.663704800Z"
    }
   },
   "id": "219a38a2f929f807"
  },
  {
   "cell_type": "code",
   "execution_count": 260,
   "outputs": [
    {
     "name": "stdout",
     "output_type": "stream",
     "text": [
      "تعداد ردیف‌هایی که مقادیر برابر دارند: 501\n"
     ]
    }
   ],
   "source": [
    "matching_rows = (result_df['test'] == result_df['RF_pred']).sum()\n",
    "print(f\"تعداد ردیف‌هایی که مقادیر برابر دارند: {matching_rows}\")"
   ],
   "metadata": {
    "collapsed": false,
    "ExecuteTime": {
     "end_time": "2024-01-25T16:01:00.758702900Z",
     "start_time": "2024-01-25T16:01:00.678080800Z"
    }
   },
   "id": "f0f43cfc44003d47"
  },
  {
   "cell_type": "code",
   "execution_count": 261,
   "outputs": [
    {
     "name": "stdout",
     "output_type": "stream",
     "text": [
      "502\n"
     ]
    },
    {
     "data": {
      "text/plain": "     test  LR_pred  DT_pred  RF_pred\n423     0        0        0        0\n189     0        0        0        0\n464     0        0        0        0\n84      1        0        1        1\n282     2        1        2        2\n426     1        1        1        1\n218     1        1        1        1\n260     2        1        2        2\n221     1        1        1        1\n89      0        0        0        0",
      "text/html": "<div>\n<style scoped>\n    .dataframe tbody tr th:only-of-type {\n        vertical-align: middle;\n    }\n\n    .dataframe tbody tr th {\n        vertical-align: top;\n    }\n\n    .dataframe thead th {\n        text-align: right;\n    }\n</style>\n<table border=\"1\" class=\"dataframe\">\n  <thead>\n    <tr style=\"text-align: right;\">\n      <th></th>\n      <th>test</th>\n      <th>LR_pred</th>\n      <th>DT_pred</th>\n      <th>RF_pred</th>\n    </tr>\n  </thead>\n  <tbody>\n    <tr>\n      <th>423</th>\n      <td>0</td>\n      <td>0</td>\n      <td>0</td>\n      <td>0</td>\n    </tr>\n    <tr>\n      <th>189</th>\n      <td>0</td>\n      <td>0</td>\n      <td>0</td>\n      <td>0</td>\n    </tr>\n    <tr>\n      <th>464</th>\n      <td>0</td>\n      <td>0</td>\n      <td>0</td>\n      <td>0</td>\n    </tr>\n    <tr>\n      <th>84</th>\n      <td>1</td>\n      <td>0</td>\n      <td>1</td>\n      <td>1</td>\n    </tr>\n    <tr>\n      <th>282</th>\n      <td>2</td>\n      <td>1</td>\n      <td>2</td>\n      <td>2</td>\n    </tr>\n    <tr>\n      <th>426</th>\n      <td>1</td>\n      <td>1</td>\n      <td>1</td>\n      <td>1</td>\n    </tr>\n    <tr>\n      <th>218</th>\n      <td>1</td>\n      <td>1</td>\n      <td>1</td>\n      <td>1</td>\n    </tr>\n    <tr>\n      <th>260</th>\n      <td>2</td>\n      <td>1</td>\n      <td>2</td>\n      <td>2</td>\n    </tr>\n    <tr>\n      <th>221</th>\n      <td>1</td>\n      <td>1</td>\n      <td>1</td>\n      <td>1</td>\n    </tr>\n    <tr>\n      <th>89</th>\n      <td>0</td>\n      <td>0</td>\n      <td>0</td>\n      <td>0</td>\n    </tr>\n  </tbody>\n</table>\n</div>"
     },
     "execution_count": 261,
     "metadata": {},
     "output_type": "execute_result"
    }
   ],
   "source": [
    "print(result_df.shape[0])\n",
    "result_df.sample(10)"
   ],
   "metadata": {
    "collapsed": false,
    "ExecuteTime": {
     "end_time": "2024-01-25T16:01:00.762696500Z",
     "start_time": "2024-01-25T16:01:00.700794400Z"
    }
   },
   "id": "91b7b82d8a96e5bb"
  },
  {
   "cell_type": "markdown",
   "source": [
    "## Confusion Matrix"
   ],
   "metadata": {
    "collapsed": false
   },
   "id": "23f12fa27dbf03f"
  },
  {
   "cell_type": "code",
   "execution_count": 262,
   "outputs": [],
   "source": [
    "def my_confusion_matrix(y_test, y_pred, num_classes):\n",
    "    conf_matrix = np.zeros((num_classes, num_classes), dtype=int)\n",
    "    for i in range(num_classes):\n",
    "        for j in range(num_classes):\n",
    "            conf_matrix[i, j] = np.sum((y_test == i) & (y_pred == j))\n",
    "\n",
    "    return conf_matrix\n",
    "\n",
    "def metrics(conf_matrix):\n",
    "    num_classes = len(conf_matrix)\n",
    "    results = {}\n",
    "\n",
    "    for i in range(num_classes):\n",
    "        true_positive = conf_matrix[i, i]\n",
    "        true_negative = np.sum(np.delete(np.delete(conf_matrix, i, axis=0), i, axis=1))\n",
    "        false_positive = np.sum(conf_matrix[:, i]) - true_positive\n",
    "        false_negative = np.sum(conf_matrix[i, :]) - true_positive\n",
    "\n",
    "        total = true_positive + true_negative + false_positive + false_negative\n",
    "        positives = true_positive + false_negative\n",
    "        negatives = true_negative + false_positive\n",
    "\n",
    "        sensitivity = true_positive / positives if positives > 0 else 0  # Recall\n",
    "        specificity = true_negative / negatives if negatives > 0 else 0\n",
    "        precision = true_positive / (true_positive + false_positive) if (true_positive + false_positive) > 0 else 0\n",
    "\n",
    "        results[f'Class {i}'] = {\n",
    "            'TP': true_positive,\n",
    "            'TN': true_negative,\n",
    "            'FP': false_positive,\n",
    "            'FN': false_negative,\n",
    "            'Total': total,\n",
    "            'Positives': positives,\n",
    "            'Negatives': negatives,\n",
    "            'Sensitivity(Recall)': sensitivity,\n",
    "            'Specificity': specificity,\n",
    "            'Precision': precision\n",
    "        }\n",
    "\n",
    "    return results"
   ],
   "metadata": {
    "collapsed": false,
    "ExecuteTime": {
     "end_time": "2024-01-25T16:01:00.882453100Z",
     "start_time": "2024-01-25T16:01:00.738877500Z"
    }
   },
   "id": "cc9efc09a3daad9"
  },
  {
   "cell_type": "code",
   "execution_count": 263,
   "outputs": [
    {
     "name": "stdout",
     "output_type": "stream",
     "text": [
      "[[120   0   0]\n",
      " [ 68  92   0]\n",
      " [  0 121 101]]\n"
     ]
    }
   ],
   "source": [
    "number_of_classes = len(result_df['test'].unique())\n",
    "conf_matrix = my_confusion_matrix(result_df['test'], result_df['LR_pred'], number_of_classes)\n",
    "print(conf_matrix)\n"
   ],
   "metadata": {
    "collapsed": false,
    "ExecuteTime": {
     "end_time": "2024-01-25T16:01:00.989006700Z",
     "start_time": "2024-01-25T16:01:00.846906500Z"
    }
   },
   "id": "b92e49d970946a24"
  },
  {
   "cell_type": "code",
   "execution_count": 264,
   "outputs": [
    {
     "data": {
      "text/plain": "          TP   TN   FP   FN  Total  Positives  Negatives  Sensitivity(Recall)  \\\nClass 0  120  314   68    0    502        120        382             1.000000   \nClass 1   92  221  121   68    502        160        342             0.575000   \nClass 2  101  280    0  121    502        222        280             0.454955   \n\n         Specificity  Precision  \nClass 0     0.821990   0.638298  \nClass 1     0.646199   0.431925  \nClass 2     1.000000   1.000000  ",
      "text/html": "<div>\n<style scoped>\n    .dataframe tbody tr th:only-of-type {\n        vertical-align: middle;\n    }\n\n    .dataframe tbody tr th {\n        vertical-align: top;\n    }\n\n    .dataframe thead th {\n        text-align: right;\n    }\n</style>\n<table border=\"1\" class=\"dataframe\">\n  <thead>\n    <tr style=\"text-align: right;\">\n      <th></th>\n      <th>TP</th>\n      <th>TN</th>\n      <th>FP</th>\n      <th>FN</th>\n      <th>Total</th>\n      <th>Positives</th>\n      <th>Negatives</th>\n      <th>Sensitivity(Recall)</th>\n      <th>Specificity</th>\n      <th>Precision</th>\n    </tr>\n  </thead>\n  <tbody>\n    <tr>\n      <th>Class 0</th>\n      <td>120</td>\n      <td>314</td>\n      <td>68</td>\n      <td>0</td>\n      <td>502</td>\n      <td>120</td>\n      <td>382</td>\n      <td>1.000000</td>\n      <td>0.821990</td>\n      <td>0.638298</td>\n    </tr>\n    <tr>\n      <th>Class 1</th>\n      <td>92</td>\n      <td>221</td>\n      <td>121</td>\n      <td>68</td>\n      <td>502</td>\n      <td>160</td>\n      <td>342</td>\n      <td>0.575000</td>\n      <td>0.646199</td>\n      <td>0.431925</td>\n    </tr>\n    <tr>\n      <th>Class 2</th>\n      <td>101</td>\n      <td>280</td>\n      <td>0</td>\n      <td>121</td>\n      <td>502</td>\n      <td>222</td>\n      <td>280</td>\n      <td>0.454955</td>\n      <td>1.000000</td>\n      <td>1.000000</td>\n    </tr>\n  </tbody>\n</table>\n</div>"
     },
     "execution_count": 264,
     "metadata": {},
     "output_type": "execute_result"
    }
   ],
   "source": [
    "evaluation_results = metrics(conf_matrix)\n",
    "df_results = pd.DataFrame.from_dict(evaluation_results, orient='index')\n",
    "df_results.head()"
   ],
   "metadata": {
    "collapsed": false,
    "ExecuteTime": {
     "end_time": "2024-01-25T16:01:01.019930Z",
     "start_time": "2024-01-25T16:01:00.917065700Z"
    }
   },
   "id": "f065060aa157aa49"
  },
  {
   "cell_type": "code",
   "execution_count": 265,
   "outputs": [],
   "source": [
    "def roc_curve_scratch(y_test, y_predict):\n",
    "    thresholds = np.linspace(np.min(y_predict), np.max(y_predict), 4)\n",
    "    roc_fp_rate, roc_rp_rate, auc_value = [], [], 0.0\n",
    "\n",
    "    for item in thresholds:\n",
    "        y_pred = (y_predict >= item).astype(int)\n",
    "        evaluation = metrics(confusion_matrix(y_test, y_pred))\n",
    "\n",
    "        tpr_value = evaluation['Class 1']['Sensitivity(Recall)']\n",
    "        fpr_value = evaluation['Class 0']['FP'] / evaluation['Class 0']['Negatives']\n",
    "        print(tpr_value,fpr_value)\n",
    "        roc_rp_rate.append(tpr_value)\n",
    "        roc_fp_rate.append(fpr_value)\n",
    "\n",
    "    for i in range(1, len(thresholds)):\n",
    "        y_pred_high = (y_predict >= thresholds[i]).astype(int)\n",
    "        y_pred_low = (y_predict >= thresholds[i - 1]).astype(int)\n",
    "\n",
    "        evaluation_high = metrics(confusion_matrix(y_test, y_pred_high))\n",
    "        evaluation_low = metrics(confusion_matrix(y_test, y_pred_low))\n",
    "\n",
    "        tpr_high = evaluation_high['Class 1']['Sensitivity(Recall)']\n",
    "        fpr_high = evaluation_high['Class 0']['FP'] / evaluation_high['Class 0']['Negatives']\n",
    "\n",
    "        tpr_low = evaluation_low['Class 1']['Sensitivity(Recall)']\n",
    "        fpr_low = evaluation_low['Class 0']['FP'] / evaluation_low['Class 0']['Negatives']\n",
    "\n",
    "        auc_value += 0.5 * (tpr_high + tpr_low) * (fpr_low - fpr_high)\n",
    "\n",
    "    roc_fp_rate[0] = 1\n",
    "    roc_fp_rate[-1] = 0\n",
    "    roc_rp_rate[0] = 1\n",
    "    roc_rp_rate[-1] = 0\n",
    "\n",
    "    return roc_fp_rate, roc_rp_rate, thresholds, auc_value\n"
   ],
   "metadata": {
    "collapsed": false,
    "ExecuteTime": {
     "end_time": "2024-01-25T16:01:01.021923300Z",
     "start_time": "2024-01-25T16:01:00.979296600Z"
    }
   },
   "id": "5ab1b7b835f2ff3f"
  },
  {
   "cell_type": "code",
   "execution_count": 266,
   "outputs": [
    {
     "name": "stdout",
     "output_type": "stream",
     "text": [
      "1.0 0.0\n",
      "0.575 0.17801047120418848\n",
      "0.0 0.7356020942408377\n",
      "0.0 0.7356020942408377\n",
      "[1, 0.17801047120418848, 0.7356020942408377, 0] \n",
      " [1, 0.575, 0.0, 0] \n",
      " [0.         0.66666667 1.33333333 2.        ] \n",
      " -0.30049083769633506\n"
     ]
    }
   ],
   "source": [
    "roc_fpr, roc_tpr, thresholds, auc_value = roc_curve_scratch(result_df['test'], result_df['LR_pred'])\n",
    "print(roc_fpr,'\\n', roc_tpr,'\\n', thresholds,'\\n', auc_value)"
   ],
   "metadata": {
    "collapsed": false,
    "ExecuteTime": {
     "end_time": "2024-01-25T16:01:01.251187400Z",
     "start_time": "2024-01-25T16:01:00.999983600Z"
    }
   },
   "id": "93d9d361f4bec813"
  },
  {
   "cell_type": "code",
   "execution_count": 267,
   "outputs": [
    {
     "data": {
      "text/plain": "<Figure size 1000x1000 with 1 Axes>",
      "image/png": "[encoded data removed]"
     },
     "metadata": {},
     "output_type": "display_data"
    }
   ],
   "source": [
    "def roc_curve_graph(roc_fpr, roc_tpr, auc_value, save_path='roc_curves.jpg'):\n",
    "    plt.figure(figsize=(10, 10))\n",
    "    plt.plot(roc_fpr, roc_tpr, label=f'AUC = {auc_value:.2f}')\n",
    "    plt.plot([0, 1], [0, 1], color='navy', lw=2, linestyle='--')\n",
    "    plt.title('ROC Curve (Custom Implementation)')\n",
    "    plt.xlabel('False Positive Rate (FPR)')\n",
    "    plt.ylabel('True Positive Rate (TPR)')\n",
    "    plt.legend(loc='lower right')\n",
    "    plt.tight_layout()\n",
    "    plt.savefig(save_path, format='jpg', bbox_inches='tight', pad_inches=0)\n",
    "    plt.show()\n",
    "roc_curve_graph(roc_fpr, roc_tpr, auc_value)\n"
   ],
   "metadata": {
    "collapsed": false,
    "ExecuteTime": {
     "end_time": "2024-01-25T16:01:01.891536900Z",
     "start_time": "2024-01-25T16:01:01.173054300Z"
    }
   },
   "id": "9c0617da59b82229"
  },
  {
   "cell_type": "code",
   "execution_count": 267,
   "outputs": [],
   "source": [],
   "metadata": {
    "collapsed": false,
    "ExecuteTime": {
     "end_time": "2024-01-25T16:01:01.891536900Z",
     "start_time": "2024-01-25T16:01:01.878256800Z"
    }
   },
   "id": "593a4671a96cb9a0"
  }
 ],
 "metadata": {
  "kernelspec": {
   "display_name": "Python 3",
   "language": "python",
   "name": "python3"
  },
  "language_info": {
   "codemirror_mode": {
    "name": "ipython",
    "version": 2
   },
   "file_extension": ".py",
   "mimetype": "text/x-python",
   "name": "python",
   "nbconvert_exporter": "python",
   "pygments_lexer": "ipython2",
   "version": "2.7.6"
  }
 },
 "nbformat": 4,
 "nbformat_minor": 5
}
