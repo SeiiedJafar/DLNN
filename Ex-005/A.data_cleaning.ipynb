{
 "cells": [
  {
   "cell_type": "code",
   "execution_count": 868,
   "id": "initial_id",
   "metadata": {
    "collapsed": true,
    "ExecuteTime": {
     "end_time": "2024-01-25T09:32:51.857237300Z",
     "start_time": "2024-01-25T09:32:51.611306600Z"
    }
   },
   "outputs": [],
   "source": [
    "import pandas as pd"
   ]
  },
  {
   "cell_type": "code",
   "execution_count": 869,
   "outputs": [
    {
     "data": {
      "text/plain": "     Patient ID  Age at Diagnosis Type of Breast Surgery  \\\n1032    MB-4791             83.49             MASTECTOMY   \n1645    MB-6143             60.60      BREAST CONSERVING   \n2130  MTS-T0237             67.36                    NaN   \n538     MB-2629             61.22             MASTECTOMY   \n1641    MB-6133             74.60             MASTECTOMY   \n\n                   Cancer Type Detailed Cellularity Chemotherapy  \\\n1032   Breast Invasive Ductal Carcinoma    Moderate           NO   \n1645   Breast Invasive Ductal Carcinoma    Moderate           NO   \n2130   Breast Invasive Ductal Carcinoma         NaN          NaN   \n538    Breast Invasive Ductal Carcinoma    Moderate           NO   \n1641  Breast Invasive Lobular Carcinoma        High           NO   \n\n     Pam50 + Claudin-low subtype  Cohort ER status measured by IHC ER Status  \\\n1032                        LumB     3.0                   Positve  Positive   \n1645                 claudin-low     5.0                  Negative  Negative   \n2130                         NaN     1.0                  Negative  Negative   \n538                         LumB     2.0                   Positve  Positive   \n1641                        LumA     5.0                   Positve  Positive   \n\n      ...  Overall Survival Status PR Status Radio Therapy  \\\n1032  ...               1:DECEASED  Negative            NO   \n1645  ...                 0:LIVING  Negative           YES   \n2130  ...                      NaN       NaN           NaN   \n538   ...                 0:LIVING  Negative           YES   \n1641  ...               1:DECEASED  Negative            NO   \n\n     Relapse Free Status (Months) Relapse Free Status  \\\n1032                       171.55      0:Not Recurred   \n1645                       252.24      0:Not Recurred   \n2130                        37.99          1:Recurred   \n538                        275.43      0:Not Recurred   \n1641                        60.99          1:Recurred   \n\n     3-Gene classifier subtype TMB (nonsynonymous) Tumor Size  Tumor Stage  \\\n1032     ER+/HER2- High Prolif           60.145814       20.0          1.0   \n1645                 ER-/HER2-            7.845106       46.0          2.0   \n2130                       NaN            1.307518       33.0          2.0   \n538                        NaN            2.615035       15.0          2.0   \n1641     ER+/HER2- High Prolif            9.152624       39.0          NaN   \n\n      Patient's Vital Status  \n1032    Died of Other Causes  \n1645                  Living  \n2130                     NaN  \n538                   Living  \n1641         Died of Disease  \n\n[5 rows x 33 columns]",
      "text/html": "<div>\n<style scoped>\n    .dataframe tbody tr th:only-of-type {\n        vertical-align: middle;\n    }\n\n    .dataframe tbody tr th {\n        vertical-align: top;\n    }\n\n    .dataframe thead th {\n        text-align: right;\n    }\n</style>\n<table border=\"1\" class=\"dataframe\">\n  <thead>\n    <tr style=\"text-align: right;\">\n      <th></th>\n      <th>Patient ID</th>\n      <th>Age at Diagnosis</th>\n      <th>Type of Breast Surgery</th>\n      <th>Cancer Type Detailed</th>\n      <th>Cellularity</th>\n      <th>Chemotherapy</th>\n      <th>Pam50 + Claudin-low subtype</th>\n      <th>Cohort</th>\n      <th>ER status measured by IHC</th>\n      <th>ER Status</th>\n      <th>...</th>\n      <th>Overall Survival Status</th>\n      <th>PR Status</th>\n      <th>Radio Therapy</th>\n      <th>Relapse Free Status (Months)</th>\n      <th>Relapse Free Status</th>\n      <th>3-Gene classifier subtype</th>\n      <th>TMB (nonsynonymous)</th>\n      <th>Tumor Size</th>\n      <th>Tumor Stage</th>\n      <th>Patient's Vital Status</th>\n    </tr>\n  </thead>\n  <tbody>\n    <tr>\n      <th>1032</th>\n      <td>MB-4791</td>\n      <td>83.49</td>\n      <td>MASTECTOMY</td>\n      <td>Breast Invasive Ductal Carcinoma</td>\n      <td>Moderate</td>\n      <td>NO</td>\n      <td>LumB</td>\n      <td>3.0</td>\n      <td>Positve</td>\n      <td>Positive</td>\n      <td>...</td>\n      <td>1:DECEASED</td>\n      <td>Negative</td>\n      <td>NO</td>\n      <td>171.55</td>\n      <td>0:Not Recurred</td>\n      <td>ER+/HER2- High Prolif</td>\n      <td>60.145814</td>\n      <td>20.0</td>\n      <td>1.0</td>\n      <td>Died of Other Causes</td>\n    </tr>\n    <tr>\n      <th>1645</th>\n      <td>MB-6143</td>\n      <td>60.60</td>\n      <td>BREAST CONSERVING</td>\n      <td>Breast Invasive Ductal Carcinoma</td>\n      <td>Moderate</td>\n      <td>NO</td>\n      <td>claudin-low</td>\n      <td>5.0</td>\n      <td>Negative</td>\n      <td>Negative</td>\n      <td>...</td>\n      <td>0:LIVING</td>\n      <td>Negative</td>\n      <td>YES</td>\n      <td>252.24</td>\n      <td>0:Not Recurred</td>\n      <td>ER-/HER2-</td>\n      <td>7.845106</td>\n      <td>46.0</td>\n      <td>2.0</td>\n      <td>Living</td>\n    </tr>\n    <tr>\n      <th>2130</th>\n      <td>MTS-T0237</td>\n      <td>67.36</td>\n      <td>NaN</td>\n      <td>Breast Invasive Ductal Carcinoma</td>\n      <td>NaN</td>\n      <td>NaN</td>\n      <td>NaN</td>\n      <td>1.0</td>\n      <td>Negative</td>\n      <td>Negative</td>\n      <td>...</td>\n      <td>NaN</td>\n      <td>NaN</td>\n      <td>NaN</td>\n      <td>37.99</td>\n      <td>1:Recurred</td>\n      <td>NaN</td>\n      <td>1.307518</td>\n      <td>33.0</td>\n      <td>2.0</td>\n      <td>NaN</td>\n    </tr>\n    <tr>\n      <th>538</th>\n      <td>MB-2629</td>\n      <td>61.22</td>\n      <td>MASTECTOMY</td>\n      <td>Breast Invasive Ductal Carcinoma</td>\n      <td>Moderate</td>\n      <td>NO</td>\n      <td>LumB</td>\n      <td>2.0</td>\n      <td>Positve</td>\n      <td>Positive</td>\n      <td>...</td>\n      <td>0:LIVING</td>\n      <td>Negative</td>\n      <td>YES</td>\n      <td>275.43</td>\n      <td>0:Not Recurred</td>\n      <td>NaN</td>\n      <td>2.615035</td>\n      <td>15.0</td>\n      <td>2.0</td>\n      <td>Living</td>\n    </tr>\n    <tr>\n      <th>1641</th>\n      <td>MB-6133</td>\n      <td>74.60</td>\n      <td>MASTECTOMY</td>\n      <td>Breast Invasive Lobular Carcinoma</td>\n      <td>High</td>\n      <td>NO</td>\n      <td>LumA</td>\n      <td>5.0</td>\n      <td>Positve</td>\n      <td>Positive</td>\n      <td>...</td>\n      <td>1:DECEASED</td>\n      <td>Negative</td>\n      <td>NO</td>\n      <td>60.99</td>\n      <td>1:Recurred</td>\n      <td>ER+/HER2- High Prolif</td>\n      <td>9.152624</td>\n      <td>39.0</td>\n      <td>NaN</td>\n      <td>Died of Disease</td>\n    </tr>\n  </tbody>\n</table>\n<p>5 rows × 33 columns</p>\n</div>"
     },
     "execution_count": 869,
     "metadata": {},
     "output_type": "execute_result"
    }
   ],
   "source": [
    "df= pd.read_csv('data.csv')\n",
    "df.sample(5)"
   ],
   "metadata": {
    "collapsed": false,
    "ExecuteTime": {
     "end_time": "2024-01-25T09:32:51.858235600Z",
     "start_time": "2024-01-25T09:32:51.671486600Z"
    }
   },
   "id": "30cbde2edb3ea7f"
  },
  {
   "cell_type": "code",
   "execution_count": 870,
   "outputs": [
    {
     "name": "stdout",
     "output_type": "stream",
     "text": [
      "تعداد NaN ها برای هر ستون:\n",
      "Patient ID                          0\n",
      "Age at Diagnosis                   11\n",
      "Type of Breast Surgery            554\n",
      "Cancer Type Detailed                0\n",
      "Cellularity                       592\n",
      "Chemotherapy                      529\n",
      "Pam50 + Claudin-low subtype       529\n",
      "Cohort                             11\n",
      "ER status measured by IHC          83\n",
      "ER Status                          40\n",
      "Neoplasm Histologic Grade         121\n",
      "HER2 status measured by SNP6      529\n",
      "HER2 Status                       529\n",
      "Tumor Other Histologic Subtype    135\n",
      "Hormone Therapy                   529\n",
      "Inferred Menopausal State         529\n",
      "Integrative Cluster               529\n",
      "Primary Tumor Laterality          639\n",
      "Lymph nodes examined positive     266\n",
      "Mutation Count                    151\n",
      "Nottingham prognostic index       222\n",
      "Oncotree Code                       0\n",
      "Overall Survival (Months)         528\n",
      "Overall Survival Status           528\n",
      "PR Status                         529\n",
      "Radio Therapy                     529\n",
      "Relapse Free Status (Months)      121\n",
      "Relapse Free Status                21\n",
      "3-Gene classifier subtype         745\n",
      "TMB (nonsynonymous)                 0\n",
      "Tumor Size                        149\n",
      "Tumor Stage                       721\n",
      "Patient's Vital Status            529\n",
      "dtype: int64\n"
     ]
    }
   ],
   "source": [
    "print(\"تعداد NaN ها برای هر ستون:\")\n",
    "print(df.isna().sum())"
   ],
   "metadata": {
    "collapsed": false,
    "ExecuteTime": {
     "end_time": "2024-01-25T09:32:51.858235600Z",
     "start_time": "2024-01-25T09:32:51.693820800Z"
    }
   },
   "id": "ec6f4665eed4cc96"
  },
  {
   "cell_type": "code",
   "execution_count": 871,
   "outputs": [],
   "source": [
    "df.fillna(0, inplace=True)"
   ],
   "metadata": {
    "collapsed": false,
    "ExecuteTime": {
     "end_time": "2024-01-25T09:32:51.859233100Z",
     "start_time": "2024-01-25T09:32:51.728140900Z"
    }
   },
   "id": "e14aaf6c4a89411c"
  },
  {
   "cell_type": "code",
   "execution_count": 872,
   "outputs": [],
   "source": [
    "df['Type of Breast Surgery'] = df['Type of Breast Surgery'].replace({'MASTECTOMY': 1,'BREAST CONSERVING': 2})"
   ],
   "metadata": {
    "collapsed": false,
    "ExecuteTime": {
     "end_time": "2024-01-25T09:32:51.859233100Z",
     "start_time": "2024-01-25T09:32:51.759153Z"
    }
   },
   "id": "2bbe813394f72681"
  },
  {
   "cell_type": "code",
   "execution_count": 873,
   "outputs": [],
   "source": [
    "df['Cancer Type Detailed'] = df['Cancer Type Detailed'].replace({'Breast Invasive Ductal Carcinoma': 1,\n",
    "                                                                 'Breast Mixed Ductal and Lobular Carcinoma': 2,\n",
    "                                                                 'Breast Invasive Lobular Carcinoma': 3,\n",
    "                                                                 'Invasive Breast Carcinoma': 4,\n",
    "                                                                 'Breast Invasive Mixed Mucinous Carcinoma': 5,\n",
    "                                                                 'Breast Angiosarcoma': 6,\n",
    "                                                                 'Breast': 7,\n",
    "                                                                 'Metaplastic Breast Cancer': 8})"
   ],
   "metadata": {
    "collapsed": false,
    "ExecuteTime": {
     "end_time": "2024-01-25T09:32:51.859233100Z",
     "start_time": "2024-01-25T09:32:51.787441100Z"
    }
   },
   "id": "ef9d2eb9f508121"
  },
  {
   "cell_type": "code",
   "execution_count": 874,
   "outputs": [],
   "source": [
    "df['Cellularity'] = df['Cellularity'].replace({'Low': 1, 'Moderate': 2, 'High': 3})"
   ],
   "metadata": {
    "collapsed": false,
    "ExecuteTime": {
     "end_time": "2024-01-25T09:32:51.859233100Z",
     "start_time": "2024-01-25T09:32:51.808923100Z"
    }
   },
   "id": "e8c91f5acce5ffbc"
  },
  {
   "cell_type": "code",
   "execution_count": 875,
   "outputs": [],
   "source": [
    "df['Chemotherapy'] = df['Chemotherapy'].replace({'NO': 1, 'YES': 2})"
   ],
   "metadata": {
    "collapsed": false,
    "ExecuteTime": {
     "end_time": "2024-01-25T09:32:52.396604200Z",
     "start_time": "2024-01-25T09:32:51.838010100Z"
    }
   },
   "id": "18e3cb5ef0db39de"
  },
  {
   "cell_type": "code",
   "execution_count": 876,
   "outputs": [],
   "source": [
    "df['Pam50 + Claudin-low subtype'] = df['Pam50 + Claudin-low subtype'].replace({'claudin-low': 1, 'LumA': 2, 'LumB': 3, 'Normal': 4, 'Her2': 5, 'Basal': 6, 'NC': 7})"
   ],
   "metadata": {
    "collapsed": false,
    "ExecuteTime": {
     "end_time": "2024-01-25T09:32:52.448463300Z",
     "start_time": "2024-01-25T09:32:52.035758200Z"
    }
   },
   "id": "c8edb17fb4a9ec7f"
  },
  {
   "cell_type": "code",
   "execution_count": 877,
   "outputs": [],
   "source": [
    "df['ER status measured by IHC'] = df['ER status measured by IHC'].replace({'Negative': 1, 'Positve': 2})"
   ],
   "metadata": {
    "collapsed": false,
    "ExecuteTime": {
     "end_time": "2024-01-25T09:32:52.448463300Z",
     "start_time": "2024-01-25T09:32:52.057401400Z"
    }
   },
   "id": "e86aec4814c9f7cb"
  },
  {
   "cell_type": "code",
   "execution_count": 878,
   "outputs": [],
   "source": [
    "df['ER Status'] = df['ER Status'].replace({'Negative': 1, 'Positive': 2})"
   ],
   "metadata": {
    "collapsed": false,
    "ExecuteTime": {
     "end_time": "2024-01-25T09:32:52.449461900Z",
     "start_time": "2024-01-25T09:32:52.074473500Z"
    }
   },
   "id": "95c3d00dfdb2f0df"
  },
  {
   "cell_type": "code",
   "execution_count": 879,
   "outputs": [],
   "source": [
    "df['HER2 status measured by SNP6'] = df['HER2 status measured by SNP6'].replace({'NEUTRAL': 1, 'LOSS': 2, 'GAIN': 3, 'UNDEF': 4})"
   ],
   "metadata": {
    "collapsed": false,
    "ExecuteTime": {
     "end_time": "2024-01-25T09:32:52.449461900Z",
     "start_time": "2024-01-25T09:32:52.105370Z"
    }
   },
   "id": "737247533bbbcfe"
  },
  {
   "cell_type": "code",
   "execution_count": 880,
   "outputs": [],
   "source": [
    "df['HER2 Status'] = df['HER2 Status'].replace({'Negative': 1, 'Positive': 2})"
   ],
   "metadata": {
    "collapsed": false,
    "ExecuteTime": {
     "end_time": "2024-01-25T09:32:52.449461900Z",
     "start_time": "2024-01-25T09:32:52.121936600Z"
    }
   },
   "id": "5a555a53b4e011cc"
  },
  {
   "cell_type": "code",
   "execution_count": 881,
   "outputs": [],
   "source": [
    "df['Tumor Other Histologic Subtype'] = df['Tumor Other Histologic Subtype'].replace({'Ductal/NST': 1,\n",
    "                                                                                     'Mixed': 2,\n",
    "                                                                                     'Lobular': 3,\n",
    "                                                                                     'Tubular/ cribriform': 4,\n",
    "                                                                                     'Mucinous': 5,\n",
    "                                                                                     'Medullary': 6,\n",
    "                                                                                     'Metaplastic': 7,\n",
    "                                                                                     'Other': 8})"
   ],
   "metadata": {
    "collapsed": false,
    "ExecuteTime": {
     "end_time": "2024-01-25T09:32:52.449461900Z",
     "start_time": "2024-01-25T09:32:52.132242700Z"
    }
   },
   "id": "7fa906b43818fc17"
  },
  {
   "cell_type": "code",
   "execution_count": 882,
   "outputs": [],
   "source": [
    "df['Hormone Therapy'] = df['Hormone Therapy'].replace({'NO': 1, 'YES': 2})"
   ],
   "metadata": {
    "collapsed": false,
    "ExecuteTime": {
     "end_time": "2024-01-25T09:32:52.449461900Z",
     "start_time": "2024-01-25T09:32:52.143163600Z"
    }
   },
   "id": "fe21ddfa296774df"
  },
  {
   "cell_type": "code",
   "execution_count": 883,
   "outputs": [],
   "source": [
    "df['Inferred Menopausal State'] = df['Inferred Menopausal State'].replace({'Pre': 1, 'Post': 2})"
   ],
   "metadata": {
    "collapsed": false,
    "ExecuteTime": {
     "end_time": "2024-01-25T09:32:52.449461900Z",
     "start_time": "2024-01-25T09:32:52.152547100Z"
    }
   },
   "id": "fa95e9082baa3db3"
  },
  {
   "cell_type": "code",
   "execution_count": 884,
   "outputs": [],
   "source": [
    "df['Integrative Cluster'] = df['Integrative Cluster'].replace({'4ER-': 4, '4ER+': 11})"
   ],
   "metadata": {
    "collapsed": false,
    "ExecuteTime": {
     "end_time": "2024-01-25T09:32:52.449461900Z",
     "start_time": "2024-01-25T09:32:52.162127700Z"
    }
   },
   "id": "1ca93edd35f23ea9"
  },
  {
   "cell_type": "code",
   "execution_count": 885,
   "outputs": [],
   "source": [
    "df['Primary Tumor Laterality'] = df['Primary Tumor Laterality'].replace({'Left': 1, 'Right': 2})"
   ],
   "metadata": {
    "collapsed": false,
    "ExecuteTime": {
     "end_time": "2024-01-25T09:32:52.449461900Z",
     "start_time": "2024-01-25T09:32:52.176430600Z"
    }
   },
   "id": "f711e38b39a4f17e"
  },
  {
   "cell_type": "code",
   "execution_count": 886,
   "outputs": [],
   "source": [
    "df['Oncotree Code'] = df['Oncotree Code'].replace({'IDC': 1, 'MDLC': 2, 'ILC': 3, 'BRCA': 4, 'IMMC': 5, 'PBS': 6, 'BREAST': 7, 'MBC': 8})"
   ],
   "metadata": {
    "collapsed": false,
    "ExecuteTime": {
     "end_time": "2024-01-25T09:32:52.449461900Z",
     "start_time": "2024-01-25T09:32:52.186771400Z"
    }
   },
   "id": "dc0a0a6b396f9e47"
  },
  {
   "cell_type": "code",
   "execution_count": 887,
   "outputs": [],
   "source": [
    "df['Overall Survival Status'] = df['Overall Survival Status'].replace({'0:LIVING': 1, '1:DECEASED': 2})"
   ],
   "metadata": {
    "collapsed": false,
    "ExecuteTime": {
     "end_time": "2024-01-25T09:32:52.449461900Z",
     "start_time": "2024-01-25T09:32:52.198360700Z"
    }
   },
   "id": "ce7af6640fda1d69"
  },
  {
   "cell_type": "code",
   "execution_count": 888,
   "outputs": [],
   "source": [
    "df['PR Status'] = df['PR Status'].replace({'Negative': 1, 'Positive': 2})"
   ],
   "metadata": {
    "collapsed": false,
    "ExecuteTime": {
     "end_time": "2024-01-25T09:32:52.449461900Z",
     "start_time": "2024-01-25T09:32:52.210717300Z"
    }
   },
   "id": "d26eeed0c889365"
  },
  {
   "cell_type": "code",
   "execution_count": 889,
   "outputs": [],
   "source": [
    "df['Radio Therapy'] = df['Radio Therapy'].replace({'NO': 1, 'YES': 2})"
   ],
   "metadata": {
    "collapsed": false,
    "ExecuteTime": {
     "end_time": "2024-01-25T09:32:52.449461900Z",
     "start_time": "2024-01-25T09:32:52.219339600Z"
    }
   },
   "id": "4ec29ffe3f9531bd"
  },
  {
   "cell_type": "code",
   "execution_count": 890,
   "outputs": [],
   "source": [
    "df['Relapse Free Status'] = df['Relapse Free Status'].replace({'0:Not Recurred': 1, '1:Recurred': 2})"
   ],
   "metadata": {
    "collapsed": false,
    "ExecuteTime": {
     "end_time": "2024-01-25T09:32:52.449461900Z",
     "start_time": "2024-01-25T09:32:52.228781600Z"
    }
   },
   "id": "b701af15e2deb8ed"
  },
  {
   "cell_type": "code",
   "execution_count": 891,
   "outputs": [],
   "source": [
    "df['3-Gene classifier subtype'] = df['3-Gene classifier subtype'].replace({'ER-/HER2-': 1, 'ER+/HER2- High Prolif': 2, 'ER+/HER2- Low Prolif': 3, 'HER2+': 4})"
   ],
   "metadata": {
    "collapsed": false,
    "ExecuteTime": {
     "end_time": "2024-01-25T09:32:52.449461900Z",
     "start_time": "2024-01-25T09:32:52.242078600Z"
    }
   },
   "id": "4b4c77eedf37323b"
  },
  {
   "cell_type": "code",
   "execution_count": 892,
   "outputs": [],
   "source": [
    "df['Patient\\'s Vital Status'] = df['Patient\\'s Vital Status'].replace({'Living': 1, 'Died of Disease': 2, 'Died of Other Causes': 3})"
   ],
   "metadata": {
    "collapsed": false,
    "ExecuteTime": {
     "end_time": "2024-01-25T09:32:52.450458400Z",
     "start_time": "2024-01-25T09:32:52.252852400Z"
    }
   },
   "id": "d1f18c35b7f6be37"
  },
  {
   "cell_type": "code",
   "execution_count": 893,
   "outputs": [],
   "source": [
    "columns=['Type of Breast Surgery',\n",
    "         'Cancer Type Detailed',\n",
    "         'Cellularity',\n",
    "         'Chemotherapy',\n",
    "         'Pam50 + Claudin-low subtype',\n",
    "         'Cohort',\n",
    "         'ER status measured by IHC',\n",
    "         'ER Status',\n",
    "         'Neoplasm Histologic Grade',\n",
    "         'HER2 status measured by SNP6',\n",
    "         'HER2 Status',\n",
    "         'Tumor Other Histologic Subtype',\n",
    "         'Hormone Therapy',\n",
    "         'Inferred Menopausal State',\n",
    "         'Integrative Cluster',\n",
    "         'Primary Tumor Laterality',\n",
    "         'Lymph nodes examined positive',\n",
    "         'Mutation Count',\n",
    "         'Overall Survival Status',\n",
    "         'PR Status',\n",
    "         'Radio Therapy',\n",
    "         'Relapse Free Status',\n",
    "         '3-Gene classifier subtype',\n",
    "         'Tumor Stage',\n",
    "         'Patient\\'s Vital Status']\n",
    "for item in columns:\n",
    "    df[item] = df[item].astype(int)\n"
   ],
   "metadata": {
    "collapsed": false,
    "ExecuteTime": {
     "end_time": "2024-01-25T09:32:52.450458400Z",
     "start_time": "2024-01-25T09:32:52.261083200Z"
    }
   },
   "id": "d2444970847b7d16"
  },
  {
   "cell_type": "code",
   "execution_count": 897,
   "outputs": [
    {
     "data": {
      "text/plain": "     Patient ID  Age at Diagnosis  Type of Breast Surgery  \\\n1552    MB-5624             55.43                       2   \n458     MB-0609             51.15                       1   \n2270  MTS-T0673             65.81                       0   \n2266  MTS-T0600             67.42                       0   \n419     MB-0559             47.71                       1   \n\n      Cancer Type Detailed  Cellularity  Chemotherapy  \\\n1552                     1            3             2   \n458                      1            3             2   \n2270                     1            0             0   \n2266                     3            0             0   \n419                      1            3             2   \n\n      Pam50 + Claudin-low subtype  Cohort  ER status measured by IHC  \\\n1552                            6       3                          1   \n458                             2       1                          2   \n2270                            0       1                          2   \n2266                            0       1                          2   \n419                             2       1                          2   \n\n      ER Status  ...  Overall Survival Status  PR Status  Radio Therapy  \\\n1552          1  ...                        1          1              2   \n458           2  ...                        2          1              1   \n2270          2  ...                        0          0              0   \n2266          2  ...                        0          0              0   \n419           2  ...                        1          2              1   \n\n      Relapse Free Status (Months)  Relapse Free Status  \\\n1552                        134.21                    1   \n458                          72.01                    2   \n2270                         42.24                    2   \n2266                        201.22                    1   \n419                         159.64                    1   \n\n      3-Gene classifier subtype  TMB (nonsynonymous)  Tumor Size  Tumor Stage  \\\n1552                          0            22.227801        25.0            0   \n458                           2             2.615035        14.0            2   \n2270                          0             3.922553        14.0            2   \n2266                          0             0.000000        14.0            1   \n419                           2             3.922553        25.0            2   \n\n      Patient's Vital Status  \n1552                       1  \n458                        2  \n2270                       0  \n2266                       0  \n419                        1  \n\n[5 rows x 33 columns]",
      "text/html": "<div>\n<style scoped>\n    .dataframe tbody tr th:only-of-type {\n        vertical-align: middle;\n    }\n\n    .dataframe tbody tr th {\n        vertical-align: top;\n    }\n\n    .dataframe thead th {\n        text-align: right;\n    }\n</style>\n<table border=\"1\" class=\"dataframe\">\n  <thead>\n    <tr style=\"text-align: right;\">\n      <th></th>\n      <th>Patient ID</th>\n      <th>Age at Diagnosis</th>\n      <th>Type of Breast Surgery</th>\n      <th>Cancer Type Detailed</th>\n      <th>Cellularity</th>\n      <th>Chemotherapy</th>\n      <th>Pam50 + Claudin-low subtype</th>\n      <th>Cohort</th>\n      <th>ER status measured by IHC</th>\n      <th>ER Status</th>\n      <th>...</th>\n      <th>Overall Survival Status</th>\n      <th>PR Status</th>\n      <th>Radio Therapy</th>\n      <th>Relapse Free Status (Months)</th>\n      <th>Relapse Free Status</th>\n      <th>3-Gene classifier subtype</th>\n      <th>TMB (nonsynonymous)</th>\n      <th>Tumor Size</th>\n      <th>Tumor Stage</th>\n      <th>Patient's Vital Status</th>\n    </tr>\n  </thead>\n  <tbody>\n    <tr>\n      <th>1552</th>\n      <td>MB-5624</td>\n      <td>55.43</td>\n      <td>2</td>\n      <td>1</td>\n      <td>3</td>\n      <td>2</td>\n      <td>6</td>\n      <td>3</td>\n      <td>1</td>\n      <td>1</td>\n      <td>...</td>\n      <td>1</td>\n      <td>1</td>\n      <td>2</td>\n      <td>134.21</td>\n      <td>1</td>\n      <td>0</td>\n      <td>22.227801</td>\n      <td>25.0</td>\n      <td>0</td>\n      <td>1</td>\n    </tr>\n    <tr>\n      <th>458</th>\n      <td>MB-0609</td>\n      <td>51.15</td>\n      <td>1</td>\n      <td>1</td>\n      <td>3</td>\n      <td>2</td>\n      <td>2</td>\n      <td>1</td>\n      <td>2</td>\n      <td>2</td>\n      <td>...</td>\n      <td>2</td>\n      <td>1</td>\n      <td>1</td>\n      <td>72.01</td>\n      <td>2</td>\n      <td>2</td>\n      <td>2.615035</td>\n      <td>14.0</td>\n      <td>2</td>\n      <td>2</td>\n    </tr>\n    <tr>\n      <th>2270</th>\n      <td>MTS-T0673</td>\n      <td>65.81</td>\n      <td>0</td>\n      <td>1</td>\n      <td>0</td>\n      <td>0</td>\n      <td>0</td>\n      <td>1</td>\n      <td>2</td>\n      <td>2</td>\n      <td>...</td>\n      <td>0</td>\n      <td>0</td>\n      <td>0</td>\n      <td>42.24</td>\n      <td>2</td>\n      <td>0</td>\n      <td>3.922553</td>\n      <td>14.0</td>\n      <td>2</td>\n      <td>0</td>\n    </tr>\n    <tr>\n      <th>2266</th>\n      <td>MTS-T0600</td>\n      <td>67.42</td>\n      <td>0</td>\n      <td>3</td>\n      <td>0</td>\n      <td>0</td>\n      <td>0</td>\n      <td>1</td>\n      <td>2</td>\n      <td>2</td>\n      <td>...</td>\n      <td>0</td>\n      <td>0</td>\n      <td>0</td>\n      <td>201.22</td>\n      <td>1</td>\n      <td>0</td>\n      <td>0.000000</td>\n      <td>14.0</td>\n      <td>1</td>\n      <td>0</td>\n    </tr>\n    <tr>\n      <th>419</th>\n      <td>MB-0559</td>\n      <td>47.71</td>\n      <td>1</td>\n      <td>1</td>\n      <td>3</td>\n      <td>2</td>\n      <td>2</td>\n      <td>1</td>\n      <td>2</td>\n      <td>2</td>\n      <td>...</td>\n      <td>1</td>\n      <td>2</td>\n      <td>1</td>\n      <td>159.64</td>\n      <td>1</td>\n      <td>2</td>\n      <td>3.922553</td>\n      <td>25.0</td>\n      <td>2</td>\n      <td>1</td>\n    </tr>\n  </tbody>\n</table>\n<p>5 rows × 33 columns</p>\n</div>"
     },
     "execution_count": 897,
     "metadata": {},
     "output_type": "execute_result"
    }
   ],
   "source": [
    "df.sample(5)"
   ],
   "metadata": {
    "collapsed": false,
    "ExecuteTime": {
     "end_time": "2024-01-25T09:58:20.578472700Z",
     "start_time": "2024-01-25T09:58:20.522045600Z"
    }
   },
   "id": "6026a959026ff5f4"
  },
  {
   "cell_type": "code",
   "execution_count": 895,
   "outputs": [
    {
     "name": "stdout",
     "output_type": "stream",
     "text": [
      "Patient ID                         object\n",
      "Age at Diagnosis                  float64\n",
      "Type of Breast Surgery              int32\n",
      "Cancer Type Detailed                int32\n",
      "Cellularity                         int32\n",
      "Chemotherapy                        int32\n",
      "Pam50 + Claudin-low subtype         int32\n",
      "Cohort                              int32\n",
      "ER status measured by IHC           int32\n",
      "ER Status                           int32\n",
      "Neoplasm Histologic Grade           int32\n",
      "HER2 status measured by SNP6        int32\n",
      "HER2 Status                         int32\n",
      "Tumor Other Histologic Subtype      int32\n",
      "Hormone Therapy                     int32\n",
      "Inferred Menopausal State           int32\n",
      "Integrative Cluster                 int32\n",
      "Primary Tumor Laterality            int32\n",
      "Lymph nodes examined positive       int32\n",
      "Mutation Count                      int32\n",
      "Nottingham prognostic index       float64\n",
      "Oncotree Code                       int64\n",
      "Overall Survival (Months)         float64\n",
      "Overall Survival Status             int32\n",
      "PR Status                           int32\n",
      "Radio Therapy                       int32\n",
      "Relapse Free Status (Months)      float64\n",
      "Relapse Free Status                 int32\n",
      "3-Gene classifier subtype           int32\n",
      "TMB (nonsynonymous)               float64\n",
      "Tumor Size                        float64\n",
      "Tumor Stage                         int32\n",
      "Patient's Vital Status              int32\n",
      "dtype: object\n"
     ]
    }
   ],
   "source": [
    "print(df.dtypes)"
   ],
   "metadata": {
    "collapsed": false,
    "ExecuteTime": {
     "end_time": "2024-01-25T09:32:52.451455900Z",
     "start_time": "2024-01-25T09:32:52.301910100Z"
    }
   },
   "id": "491345e8f8b74ceb"
  },
  {
   "cell_type": "code",
   "execution_count": 896,
   "outputs": [],
   "source": [
    "df.to_csv('cleaned_data.csv', index=False)"
   ],
   "metadata": {
    "collapsed": false,
    "ExecuteTime": {
     "end_time": "2024-01-25T09:32:52.451455900Z",
     "start_time": "2024-01-25T09:32:52.311479500Z"
    }
   },
   "id": "c54c861242cc097e"
  },
  {
   "cell_type": "code",
   "execution_count": 896,
   "outputs": [],
   "source": [],
   "metadata": {
    "collapsed": false,
    "ExecuteTime": {
     "end_time": "2024-01-25T09:32:52.451455900Z",
     "start_time": "2024-01-25T09:32:52.343398200Z"
    }
   },
   "id": "f2896e0fb6fb4541"
  }
 ],
 "metadata": {
  "kernelspec": {
   "display_name": "Python 3",
   "language": "python",
   "name": "python3"
  },
  "language_info": {
   "codemirror_mode": {
    "name": "ipython",
    "version": 2
   },
   "file_extension": ".py",
   "mimetype": "text/x-python",
   "name": "python",
   "nbconvert_exporter": "python",
   "pygments_lexer": "ipython2",
   "version": "2.7.6"
  }
 },
 "nbformat": 4,
 "nbformat_minor": 5
}
